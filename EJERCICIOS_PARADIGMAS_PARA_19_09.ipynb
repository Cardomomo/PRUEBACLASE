{
  "nbformat": 4,
  "nbformat_minor": 0,
  "metadata": {
    "colab": {
      "name": "EJERCICIOS PARADIGMAS PARA 19/09",
      "provenance": [],
      "collapsed_sections": [],
      "authorship_tag": "ABX9TyNcnH10pZSCOt6u4xxnIkHq",
      "include_colab_link": true
    },
    "kernelspec": {
      "name": "python3",
      "display_name": "Python 3"
    },
    "language_info": {
      "name": "python"
    }
  },
  "cells": [
    {
      "cell_type": "markdown",
      "metadata": {
        "id": "view-in-github",
        "colab_type": "text"
      },
      "source": [
        "<a href=\"https://colab.research.google.com/github/Cardomomo/PRUEBACLASE/blob/main/EJERCICIOS_PARADIGMAS_PARA_19_09.ipynb\" target=\"_parent\"><img src=\"https://colab.research.google.com/assets/colab-badge.svg\" alt=\"Open In Colab\"/></a>"
      ]
    },
    {
      "cell_type": "markdown",
      "metadata": {
        "id": "s5PTEees6wVg"
      },
      "source": [
        "# EJERCICIOS DE PARADIGMAS \n",
        "## CAROLINA TORRES ARJONA DATA 3A\n",
        "**¡¡¡¡¡¡REVISAR!!!!!!**\n",
        "1. Crear la clase Persona con los métodos\n",
        "\"set nombre\", \"set edad\",\n",
        "\"get nombre\",\n",
        "\"get edad\"\n",
        "y \"print persona\". Luego crear dos objetos del tipo\n",
        "Persona e imprimirlos.\n",
        "2. Agregarle a la clase anterior un constructor que\n",
        "reciba nombre y edad\n",
        "3. Agregarle a la clase anterior un método\n",
        "\"es mayor de edad\" que devuelva True o False.\n",
        "4. Agregarle un método \"es mayor.\n",
        "\"es mayor que\"\n",
        "el cual recibe\n",
        "un objeto persona y compara su edad con la del objeto\n",
        "actual.\n",
        "5. Agregarle un método estático \"get_ mayor\" que\n",
        "reciba dos objetos Persona y devuelva el de edad mavor.\n",
        "\n"
      ]
    },
    {
      "cell_type": "code",
      "metadata": {
        "colab": {
          "base_uri": "https://localhost:8080/"
        },
        "id": "BocGuFWeamu_",
        "outputId": "7b8cacd0-3faa-4966-fb73-d75275d9214d"
      },
      "source": [
        "#EJ 1-------\n",
        "class Persona:\n",
        "  def set_nombre(self,name):\n",
        "    self.nombre=name\n",
        "  def set_edad(self,age):\n",
        "    self.edad=age\n",
        "  def get_nombre(self):\n",
        "    return self.name\n",
        "  def get_edad(self):\n",
        "    return self.age\n",
        "  def print_persona(self):\n",
        "    print(self.nombre,\":\",self.edad)\n",
        "\n",
        "Persona1=Persona()\n",
        "Persona1.set_nombre(\"CAROLINA\")\n",
        "Persona1.set_edad(21)\n",
        "Persona1.print_persona()\n",
        "\n",
        "Persona2=Persona()\n",
        "Persona2.set_nombre(\"CARDOMOMO\")\n",
        "Persona2.set_edad(13)\n",
        "Persona2.print_persona()"
      ],
      "execution_count": 175,
      "outputs": [
        {
          "output_type": "stream",
          "name": "stdout",
          "text": [
            "CAROLINA : 21\n",
            "CARDOMOMO : 13\n"
          ]
        }
      ]
    },
    {
      "cell_type": "code",
      "metadata": {
        "colab": {
          "base_uri": "https://localhost:8080/"
        },
        "id": "zL8XxIsZay6T",
        "outputId": "b9e7a859-9377-4f91-f3aa-e84e05bc415b"
      },
      "source": [
        "#EJ 2-------\n",
        "class Persona:\n",
        "\n",
        "  def __init__(self):\n",
        "    self.nombre=\"XXXXX\"\n",
        "    self.edad=33333\n",
        "\n",
        "  def set_nombre(self,name):\n",
        "    self.nombre=name\n",
        "  def set_edad(self,age):\n",
        "    self.edad=age\n",
        "  def get_nombre(self):\n",
        "    return self.name\n",
        "  def get_edad(self):\n",
        "    return self.age\n",
        "  def print_persona(self):\n",
        "    print(self.nombre,\":\",self.edad)\n",
        "\n",
        "\n",
        "#IMPRIMO EL CONSTRUCTOR\n",
        "Persona0=Persona()\n",
        "Persona0.print_persona()\n",
        "\n",
        "Persona1.set_nombre(\"CAROLINA\")\n",
        "Persona1.set_edad(21)\n",
        "Persona1.print_persona()\n",
        "\n",
        "Persona2=Persona()\n",
        "Persona2.set_nombre(\"CARDOMOMO\")\n",
        "Persona2.set_edad(13)\n",
        "Persona2.print_persona()\n"
      ],
      "execution_count": 176,
      "outputs": [
        {
          "output_type": "stream",
          "name": "stdout",
          "text": [
            "XXXXX : 33333\n",
            "CAROLINA : 21\n",
            "CARDOMOMO : 13\n"
          ]
        }
      ]
    },
    {
      "cell_type": "code",
      "metadata": {
        "colab": {
          "base_uri": "https://localhost:8080/"
        },
        "id": "glnjxWGpgfie",
        "outputId": "a317117c-8452-4690-d35a-cd898471a687"
      },
      "source": [
        "#EJ 3-------\n",
        "class Persona:\n",
        "\n",
        "  def __init__(self):\n",
        "    self.nombre=\"XXXXX\"\n",
        "    self.edad=3333\n",
        "\n",
        "  def set_nombre(self,name):\n",
        "    self.nombre=name\n",
        "  def set_edad(self,age):\n",
        "    self.edad=age\n",
        "  def get_nombre(self):\n",
        "    return self.name\n",
        "  def get_edad(self):\n",
        "    return self.age\n",
        "  def print_persona(self):\n",
        "    print(self.nombre,\":\",self.edad)\n",
        "  def es_mayor_de_edad(self):\n",
        "      print(bool(self.edad<13))\n",
        "           \n",
        "\n",
        "#IMPRIMO EL CONSTRUCTOR\n",
        "Persona0=Persona()\n",
        "Persona0.print_persona()\n",
        "\n",
        "Persona1=Persona()\n",
        "Persona1.set_nombre(\"CAROLINA\")\n",
        "Persona1.set_edad(21)\n",
        "Persona1.print_persona()\n",
        "Persona1.es_mayor_de_edad()\n",
        "\n",
        "\n",
        "Persona2=Persona()\n",
        "Persona2.set_nombre(\"CARDOMOMO\")\n",
        "Persona2.set_edad(13)\n",
        "Persona2.print_persona()\n",
        "Persona2.es_mayor_de_edad()\n",
        "\n",
        "\n"
      ],
      "execution_count": 177,
      "outputs": [
        {
          "output_type": "stream",
          "name": "stdout",
          "text": [
            "XXXXX : 3333\n",
            "CAROLINA : 21\n",
            "False\n",
            "CARDOMOMO : 13\n",
            "False\n"
          ]
        }
      ]
    },
    {
      "cell_type": "code",
      "metadata": {
        "colab": {
          "base_uri": "https://localhost:8080/"
        },
        "id": "nfjW9bKspMZs",
        "outputId": "aef59369-970a-4e17-f6d3-d3ed491406b6"
      },
      "source": [
        "#EJ 4-------\n",
        "class Persona:\n",
        "\n",
        "  def __init__(self):\n",
        "    self.nombre=\"XXXXX\"\n",
        "    self.edad=3333\n",
        "\n",
        "  def set_nombre(self,name):\n",
        "    self.nombre=name\n",
        "  def set_edad(self,age):\n",
        "    self.edad=age\n",
        "  def get_nombre(self):\n",
        "    return self.nombre\n",
        "  def get_edad(self):\n",
        "    return self.edad\n",
        "  def print_persona(self):\n",
        "    print(self.nombre,\":\",self.edad)\n",
        "  def es_mayor_de_edad(self):\n",
        "      print(bool(self.edad>=18))\n",
        "           \n",
        "\n",
        "#IMPRIMO EL CONSTRUCTOR\n",
        "Persona0=Persona()\n",
        "Persona0.print_persona()\n",
        "\n",
        "Persona1=Persona()\n",
        "Persona1.set_nombre(\"CAROLINA\")\n",
        "Persona1.set_edad(21)\n",
        "Persona1.print_persona()\n",
        "Persona1.es_mayor_de_edad()\n",
        "\n",
        "\n",
        "Persona2=Persona()\n",
        "Persona2.set_nombre(\"CARDOMOMO\")\n",
        "Persona2.set_edad(13)\n",
        "Persona2.print_persona()\n",
        "Persona2.es_mayor_de_edad()\n",
        "\n",
        "def es_mayor_que(persona):\n",
        "    Personaactual=Persona()\n",
        "    Personaactual.set_edad(18)\n",
        "    if persona.get_edad()<Personaactual.get_edad():\n",
        "      print(\"ACTUAL ES MAYOR\", Personaactual.get_edad(),\">\",persona.get_edad())\n",
        "      \n",
        "    elif persona.get_edad()>Personaactual.get_edad():\n",
        "     print(\"ACTUAL ES MENOR\", Personaactual.get_edad(),\"<\",persona.get_edad())\n",
        "    else:\n",
        "      print(\"SON IGUALES\", Personaactual.get_edad(),\"=\",persona.get_edad())\n",
        "\n",
        "es_mayor_que(Persona2)\n",
        "\n",
        "\n",
        "\n",
        "\n",
        "\n"
      ],
      "execution_count": 178,
      "outputs": [
        {
          "output_type": "stream",
          "name": "stdout",
          "text": [
            "XXXXX : 3333\n",
            "CAROLINA : 21\n",
            "True\n",
            "CARDOMOMO : 13\n",
            "False\n",
            "ACTUAL ES MAYOR 18 > 13\n"
          ]
        }
      ]
    },
    {
      "cell_type": "code",
      "metadata": {
        "colab": {
          "base_uri": "https://localhost:8080/"
        },
        "id": "IBdHMOA4zjt6",
        "outputId": "ce390f2d-47b2-407d-bc8c-bd0e4593c4a3"
      },
      "source": [
        "#EJ 5-------\n",
        "class Persona:\n",
        "\n",
        "  def __init__(self):\n",
        "    self.nombre=\"XXXXX\"\n",
        "    self.edad=3333\n",
        "  \n",
        "  @staticmethod\n",
        "  def get_mayor(objeto1,objeto2):\n",
        "    if objeto1.get_edad()<objeto2.get_edad():\n",
        "      return objeto2.get_edad()\n",
        "    else:\n",
        "      return objeto1.get_edad()\n",
        "\n",
        "  def set_nombre(self,name):\n",
        "    self.nombre=name\n",
        "  def set_edad(self,age):\n",
        "    self.edad=age\n",
        "  def get_nombre(self):\n",
        "    return self.nombre\n",
        "  def get_edad(self):\n",
        "    return self.edad\n",
        "  def print_persona(self):\n",
        "    print(self.nombre,\":\",self.edad)\n",
        "  def es_mayor_de_edad(self):\n",
        "      print(bool(self.edad>=18))\n",
        "           \n",
        "\n",
        "#IMPRIMO EL CONSTRUCTOR\n",
        "Persona0=Persona()\n",
        "Persona0.print_persona()\n",
        "\n",
        "Persona1=Persona()\n",
        "Persona1.set_nombre(\"CAROLINA\")\n",
        "Persona1.set_edad(21)\n",
        "Persona1.print_persona()\n",
        "Persona1.es_mayor_de_edad()\n",
        "\n",
        "\n",
        "Persona2=Persona()\n",
        "Persona2.set_nombre(\"CARDOMOMO\")\n",
        "Persona2.set_edad(13)\n",
        "Persona2.print_persona()\n",
        "Persona2.es_mayor_de_edad()\n",
        "\n",
        "def es_mayor_que(persona):\n",
        "    Personaactual=Persona()\n",
        "    Personaactual.set_edad(18)\n",
        "    if persona.get_edad()<Personaactual.get_edad():\n",
        "      print(\"ACTUAL ES MAYOR\", Personaactual.get_edad(),\">\",persona.get_edad())\n",
        "    elif persona.get_edad()>Personaactual.get_edad():\n",
        "     print(\"ACTUAL ES MENOR\", Personaactual.get_edad(),\"<\",persona.get_edad())\n",
        "    else:\n",
        "      print(\"SON IGUALES\", Personaactual.get_edad(),\"=\",persona.get_edad())\n",
        "\n",
        "es_mayor_que(Persona2)\n",
        "\n",
        "print(\"5.MÉTODO ESTÁTICO\",Persona.get_mayor(Persona1,Persona2))\n",
        "\n"
      ],
      "execution_count": 179,
      "outputs": [
        {
          "output_type": "stream",
          "name": "stdout",
          "text": [
            "XXXXX : 3333\n",
            "CAROLINA : 21\n",
            "True\n",
            "CARDOMOMO : 13\n",
            "False\n",
            "ACTUAL ES MAYOR 18 > 13\n",
            "5.MÉTODO ESTÁTICO 21\n"
          ]
        }
      ]
    },
    {
      "cell_type": "code",
      "metadata": {
        "id": "f1Dq5MSx3op2"
      },
      "source": [
        ""
      ],
      "execution_count": 179,
      "outputs": []
    }
  ]
}